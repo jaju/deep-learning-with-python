{
 "cells": [
  {
   "cell_type": "code",
   "execution_count": 8,
   "id": "70655a8d-73af-4f42-8667-eef8decfff1d",
   "metadata": {
    "is_executing": true
   },
   "outputs": [],
   "source": [
    "import mnist_ex"
   ]
  },
  {
   "cell_type": "code",
   "execution_count": 9,
   "id": "aa1087f0-f474-4352-ab90-4d560487de5e",
   "metadata": {},
   "outputs": [
    {
     "name": "stdout",
     "output_type": "stream",
     "text": [
      "Epoch 1/5\n",
      "469/469 [==============================] - 2s 4ms/step - loss: 0.2697 - accuracy: 0.9235\n",
      "Epoch 2/5\n",
      "469/469 [==============================] - 2s 4ms/step - loss: 0.1066 - accuracy: 0.9687\n",
      "Epoch 3/5\n",
      "469/469 [==============================] - 2s 4ms/step - loss: 0.0707 - accuracy: 0.9787\n",
      "Epoch 4/5\n",
      "469/469 [==============================] - 2s 4ms/step - loss: 0.0514 - accuracy: 0.9847\n",
      "Epoch 5/5\n",
      "469/469 [==============================] - 2s 5ms/step - loss: 0.0391 - accuracy: 0.9881\n"
     ]
    },
    {
     "data": {
      "text/plain": [
       "<keras.src.callbacks.History at 0x126d8cc90>"
      ]
     },
     "execution_count": 9,
     "metadata": {},
     "output_type": "execute_result"
    }
   ],
   "source": [
    "model = mnist_ex.init_model()\n",
    "(train_data, test_data) = mnist_ex.load_mnist()\n",
    "(train_images, train_labels), (test_images, test_labels) = mnist_ex.reshape_mnist(train_data, test_data)\n",
    "model.fit(train_images, train_labels, epochs=5,batch_size=128)"
   ]
  },
  {
   "cell_type": "code",
   "execution_count": null,
   "id": "b5108e93-d8eb-49e7-a79b-da3f306fde4d",
   "metadata": {},
   "outputs": [],
   "source": []
  },
  {
   "cell_type": "code",
   "execution_count": null,
   "id": "0556a092-0fc5-45d4-b624-5ad222815ebc",
   "metadata": {},
   "outputs": [],
   "source": []
  },
  {
   "cell_type": "markdown",
   "id": "416cf6e4-89a8-4b25-93c4-4a7782d09819",
   "metadata": {},
   "source": [
    "# Now, for testing the data"
   ]
  },
  {
   "cell_type": "code",
   "execution_count": 10,
   "id": "0efd26c9-aaff-4a0a-bd73-ce80bfbc7357",
   "metadata": {},
   "outputs": [
    {
     "name": "stdout",
     "output_type": "stream",
     "text": [
      "1/1 [==============================] - 0s 40ms/step\n",
      "[3.0346840e-07 5.8884670e-09 1.0297872e-05 5.4208533e-05 1.7339795e-10\n",
      " 9.0125084e-08 2.0530211e-11 9.9991757e-01 4.9086992e-07 1.6859711e-05]\n"
     ]
    }
   ],
   "source": [
    "test_digits = test_images[0:10]\n",
    "predictions = model.predict(test_digits)\n",
    "print(predictions[0])"
   ]
  },
  {
   "cell_type": "code",
   "execution_count": null,
   "id": "55afde72-7333-4596-bc33-1b93e5611067",
   "metadata": {},
   "outputs": [],
   "source": []
  },
  {
   "cell_type": "code",
   "execution_count": null,
   "id": "8d2e1b9f-ca48-46a5-9e04-dd6fb7fd9fc8",
   "metadata": {},
   "outputs": [],
   "source": []
  },
  {
   "cell_type": "markdown",
   "id": "ce6c7fb1-f0c9-4ffe-bc14-e77bc4bde93d",
   "metadata": {},
   "source": [
    "# That gives all probabilities. Let us pick the winner"
   ]
  },
  {
   "cell_type": "code",
   "execution_count": 11,
   "id": "faa66f43-73ff-45e0-addb-80d3adda2b55",
   "metadata": {},
   "outputs": [
    {
     "name": "stdout",
     "output_type": "stream",
     "text": [
      "7\n"
     ]
    }
   ],
   "source": [
    "print(predictions[0].argmax())"
   ]
  },
  {
   "cell_type": "code",
   "execution_count": null,
   "id": "464fdfaf-ea81-44b7-a452-a6537daeeffe",
   "metadata": {},
   "outputs": [],
   "source": []
  },
  {
   "cell_type": "code",
   "execution_count": null,
   "id": "217c4729-0ca4-4738-ab87-60e15300f5ef",
   "metadata": {},
   "outputs": [],
   "source": []
  },
  {
   "cell_type": "markdown",
   "id": "96edd9a9-2fba-4514-8b34-dd2f29e09874",
   "metadata": {},
   "source": [
    "@ What was it again?"
   ]
  },
  {
   "cell_type": "code",
   "execution_count": 12,
   "id": "9330372f-9147-42d8-831b-0640c7cf535c",
   "metadata": {},
   "outputs": [
    {
     "data": {
      "text/plain": [
       "7"
      ]
     },
     "execution_count": 12,
     "metadata": {},
     "output_type": "execute_result"
    }
   ],
   "source": [
    "test_labels[0]"
   ]
  },
  {
   "cell_type": "code",
   "execution_count": null,
   "id": "165a00a4-9fa6-4021-aec3-cdd836fa29ec",
   "metadata": {},
   "outputs": [],
   "source": []
  },
  {
   "cell_type": "code",
   "execution_count": null,
   "id": "1945bceb-39a9-4b0a-b337-63969433227e",
   "metadata": {},
   "outputs": [],
   "source": []
  },
  {
   "cell_type": "markdown",
   "id": "61c72a3c-91bb-4868-acb6-0f0d19f44ac8",
   "metadata": {},
   "source": [
    "# What is the overall accuracies?"
   ]
  },
  {
   "cell_type": "code",
   "execution_count": 14,
   "id": "915786b5-44e7-438f-a456-694aac6004c7",
   "metadata": {},
   "outputs": [
    {
     "name": "stdout",
     "output_type": "stream",
     "text": [
      "313/313 [==============================] - 0s 1ms/step - loss: 0.0602 - accuracy: 0.9803\n",
      "test accuracy: 0.9803000092506409\n"
     ]
    }
   ],
   "source": [
    "test_loss, test_acc = model.evaluate(test_images, test_labels)\n",
    "print(f\"test accuracy: {test_acc}\")"
   ]
  },
  {
   "cell_type": "code",
   "execution_count": null,
   "id": "ecd9d5c4-7228-4a49-a8fc-93fd9d2e58dd",
   "metadata": {},
   "outputs": [],
   "source": []
  },
  {
   "cell_type": "code",
   "execution_count": null,
   "id": "26723431-db9a-4c92-935c-4c622f6a059c",
   "metadata": {},
   "outputs": [],
   "source": []
  }
 ],
 "metadata": {
  "kernelspec": {
   "display_name": "Python 3 (ipykernel)",
   "language": "python",
   "name": "python3"
  },
  "language_info": {
   "codemirror_mode": {
    "name": "ipython",
    "version": 3
   },
   "file_extension": ".py",
   "mimetype": "text/x-python",
   "name": "python",
   "nbconvert_exporter": "python",
   "pygments_lexer": "ipython3",
   "version": "3.11.3"
  }
 },
 "nbformat": 4,
 "nbformat_minor": 5
}
