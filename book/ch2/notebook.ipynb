{
 "cells": [
  {
   "cell_type": "code",
   "execution_count": 1,
   "id": "70655a8d-73af-4f42-8667-eef8decfff1d",
   "metadata": {
    "is_executing": true
   },
   "outputs": [
    {
     "name": "stderr",
     "output_type": "stream",
     "text": [
      "2023-06-02 22:23:25.226470: I tensorflow/core/platform/cpu_feature_guard.cc:182] This TensorFlow binary is optimized to use available CPU instructions in performance-critical operations.\n",
      "To enable the following instructions: AVX2 FMA, in other operations, rebuild TensorFlow with the appropriate compiler flags.\n"
     ]
    }
   ],
   "source": [
    "import tensorflow.python.keras.callbacks\n",
    "\n",
    "import mnist_ex"
   ]
  },
  {
   "cell_type": "code",
   "execution_count": null,
   "id": "4867b6a7-d20b-4644-ab47-f42af946884a",
   "metadata": {},
   "outputs": [],
   "source": []
  },
  {
   "cell_type": "code",
   "execution_count": null,
   "id": "5e547d44-19e5-472a-8812-5a5b1ed1dc07",
   "metadata": {},
   "outputs": [],
   "source": []
  },
  {
   "cell_type": "code",
   "execution_count": 3,
   "id": "aa1087f0-f474-4352-ab90-4d560487de5e",
   "metadata": {},
   "outputs": [
    {
     "name": "stdout",
     "output_type": "stream",
     "text": [
      "Epoch 1/5\n",
      "469/469 [==============================] - 2s 3ms/step - loss: 0.2639 - accuracy: 0.9242\n",
      "Epoch 2/5\n",
      "469/469 [==============================] - 1s 3ms/step - loss: 0.1074 - accuracy: 0.9684\n",
      "Epoch 3/5\n",
      "469/469 [==============================] - 2s 3ms/step - loss: 0.0707 - accuracy: 0.9789\n",
      "Epoch 4/5\n",
      "469/469 [==============================] - 2s 3ms/step - loss: 0.0516 - accuracy: 0.9844\n",
      "Epoch 5/5\n",
      "469/469 [==============================] - 2s 4ms/step - loss: 0.0376 - accuracy: 0.9890\n"
     ]
    },
    {
     "data": {
      "text/plain": [
       "<keras.src.callbacks.History at 0x13066ed10>"
      ]
     },
     "execution_count": 3,
     "metadata": {},
     "output_type": "execute_result"
    }
   ],
   "source": [
    "model = mnist_ex.init_model()\n",
    "(train_data, test_data) = mnist_ex.load_mnist()\n",
    "(train_images, train_labels), (test_images, test_labels) = mnist_ex.reshape_mnist(train_data, test_data)\n",
    "model.fit(train_images, train_labels, epochs=5,batch_size=128, callbacks=[tensorflow.keras.callbacks.TensorBoard(\"/Users/jaju/keras\")])"
   ]
  },
  {
   "cell_type": "code",
   "execution_count": null,
   "id": "451ffad0-1c81-4489-9a0c-59a2842fc6af",
   "metadata": {},
   "outputs": [],
   "source": []
  },
  {
   "cell_type": "code",
   "execution_count": null,
   "id": "0fde81b5-5ee6-4c3a-8439-5df10cada058",
   "metadata": {},
   "outputs": [],
   "source": []
  },
  {
   "cell_type": "code",
   "execution_count": null,
   "id": "a541294e-f57e-44d8-9731-d41d0bc9f1a9",
   "metadata": {},
   "outputs": [],
   "source": []
  },
  {
   "cell_type": "code",
   "execution_count": null,
   "id": "5d97a76d-9fd8-4612-b3c9-b35869aa25e0",
   "metadata": {},
   "outputs": [],
   "source": []
  },
  {
   "cell_type": "code",
   "execution_count": null,
   "id": "8bec41d3-142a-4446-a169-2f4cd1293565",
   "metadata": {},
   "outputs": [],
   "source": []
  },
  {
   "cell_type": "code",
   "execution_count": null,
   "id": "b5108e93-d8eb-49e7-a79b-da3f306fde4d",
   "metadata": {},
   "outputs": [],
   "source": []
  },
  {
   "cell_type": "code",
   "execution_count": null,
   "id": "0556a092-0fc5-45d4-b624-5ad222815ebc",
   "metadata": {},
   "outputs": [],
   "source": []
  },
  {
   "cell_type": "markdown",
   "id": "416cf6e4-89a8-4b25-93c4-4a7782d09819",
   "metadata": {},
   "source": [
    "# Now, for testing the data"
   ]
  },
  {
   "cell_type": "code",
   "execution_count": 4,
   "id": "0efd26c9-aaff-4a0a-bd73-ce80bfbc7357",
   "metadata": {},
   "outputs": [
    {
     "name": "stdout",
     "output_type": "stream",
     "text": [
      "1/1 [==============================] - 0s 86ms/step\n",
      "[2.2918602e-08 2.1694508e-08 3.1230877e-05 6.5919303e-04 5.0799177e-11\n",
      " 7.3656061e-08 1.3920202e-12 9.9930143e-01 6.9424783e-07 7.4616396e-06]\n"
     ]
    }
   ],
   "source": [
    "test_digits = test_images[0:10]\n",
    "predictions = model.predict(test_digits)\n",
    "print(predictions[0])"
   ]
  },
  {
   "cell_type": "code",
   "execution_count": null,
   "id": "cc584d00-e626-4be7-ac55-29e09f8f68ab",
   "metadata": {},
   "outputs": [],
   "source": []
  },
  {
   "cell_type": "code",
   "execution_count": null,
   "id": "88d0afba-689c-480b-aca3-74c6bf72021f",
   "metadata": {},
   "outputs": [],
   "source": []
  },
  {
   "cell_type": "code",
   "execution_count": null,
   "id": "55afde72-7333-4596-bc33-1b93e5611067",
   "metadata": {},
   "outputs": [],
   "source": []
  },
  {
   "cell_type": "code",
   "execution_count": null,
   "id": "8d2e1b9f-ca48-46a5-9e04-dd6fb7fd9fc8",
   "metadata": {},
   "outputs": [],
   "source": []
  },
  {
   "cell_type": "markdown",
   "id": "ce6c7fb1-f0c9-4ffe-bc14-e77bc4bde93d",
   "metadata": {},
   "source": [
    "# That gives all probabilities. Let us pick the winner"
   ]
  },
  {
   "cell_type": "code",
   "execution_count": 7,
   "id": "faa66f43-73ff-45e0-addb-80d3adda2b55",
   "metadata": {},
   "outputs": [
    {
     "name": "stdout",
     "output_type": "stream",
     "text": [
      "7\n"
     ]
    }
   ],
   "source": [
    "print(predictions[0].argmax())"
   ]
  },
  {
   "cell_type": "code",
   "execution_count": null,
   "id": "550bc844-f9f2-40c6-a671-4f25160206d3",
   "metadata": {},
   "outputs": [],
   "source": []
  },
  {
   "cell_type": "code",
   "execution_count": null,
   "id": "464fdfaf-ea81-44b7-a452-a6537daeeffe",
   "metadata": {},
   "outputs": [],
   "source": []
  },
  {
   "cell_type": "code",
   "execution_count": null,
   "id": "217c4729-0ca4-4738-ab87-60e15300f5ef",
   "metadata": {},
   "outputs": [],
   "source": []
  },
  {
   "cell_type": "markdown",
   "id": "96edd9a9-2fba-4514-8b34-dd2f29e09874",
   "metadata": {},
   "source": [
    "@ What was it again?"
   ]
  },
  {
   "cell_type": "code",
   "execution_count": 8,
   "id": "9330372f-9147-42d8-831b-0640c7cf535c",
   "metadata": {},
   "outputs": [
    {
     "data": {
      "text/plain": [
       "7"
      ]
     },
     "execution_count": 8,
     "metadata": {},
     "output_type": "execute_result"
    }
   ],
   "source": [
    "test_labels[0]"
   ]
  },
  {
   "cell_type": "code",
   "execution_count": null,
   "id": "44828e24-7a1b-4c0d-bf63-9854e6cca35e",
   "metadata": {},
   "outputs": [],
   "source": []
  },
  {
   "cell_type": "code",
   "execution_count": null,
   "id": "165a00a4-9fa6-4021-aec3-cdd836fa29ec",
   "metadata": {},
   "outputs": [],
   "source": []
  },
  {
   "cell_type": "code",
   "execution_count": null,
   "id": "1945bceb-39a9-4b0a-b337-63969433227e",
   "metadata": {},
   "outputs": [],
   "source": []
  },
  {
   "cell_type": "markdown",
   "id": "61c72a3c-91bb-4868-acb6-0f0d19f44ac8",
   "metadata": {},
   "source": [
    "# What is the overall accuracies?"
   ]
  },
  {
   "cell_type": "code",
   "execution_count": 5,
   "id": "915786b5-44e7-438f-a456-694aac6004c7",
   "metadata": {},
   "outputs": [
    {
     "name": "stdout",
     "output_type": "stream",
     "text": [
      "313/313 [==============================] - 0s 979us/step - loss: 0.0594 - accuracy: 0.9812\n",
      "test accuracy: 0.9811999797821045\n"
     ]
    }
   ],
   "source": [
    "test_loss, test_acc = model.evaluate(test_images, test_labels)\n",
    "print(f\"test accuracy: {test_acc}\")"
   ]
  },
  {
   "cell_type": "code",
   "execution_count": 6,
   "id": "83f34c34-7e8f-4403-b226-323635edde89",
   "metadata": {},
   "outputs": [
    {
     "name": "stderr",
     "output_type": "stream",
     "text": [
      "UsageError: Line magic function `%tensorboard` not found.\n"
     ]
    }
   ],
   "source": [
    "%tensorboard --logdir \"/Users/jaju/keras\""
   ]
  },
  {
   "cell_type": "code",
   "execution_count": null,
   "id": "3570e304-0f26-49ff-8261-5de8a4eb47a8",
   "metadata": {},
   "outputs": [],
   "source": []
  },
  {
   "cell_type": "code",
   "execution_count": null,
   "id": "709d5b23-bbe0-4313-9262-9c36789b5a66",
   "metadata": {},
   "outputs": [],
   "source": []
  },
  {
   "cell_type": "code",
   "execution_count": null,
   "id": "ecd9d5c4-7228-4a49-a8fc-93fd9d2e58dd",
   "metadata": {},
   "outputs": [],
   "source": []
  },
  {
   "cell_type": "code",
   "execution_count": null,
   "id": "26723431-db9a-4c92-935c-4c622f6a059c",
   "metadata": {},
   "outputs": [],
   "source": []
  }
 ],
 "metadata": {
  "kernelspec": {
   "display_name": "Python 3 (ipykernel)",
   "language": "python",
   "name": "python3"
  },
  "language_info": {
   "codemirror_mode": {
    "name": "ipython",
    "version": 3
   },
   "file_extension": ".py",
   "mimetype": "text/x-python",
   "name": "python",
   "nbconvert_exporter": "python",
   "pygments_lexer": "ipython3",
   "version": "3.11.3"
  }
 },
 "nbformat": 4,
 "nbformat_minor": 5
}
