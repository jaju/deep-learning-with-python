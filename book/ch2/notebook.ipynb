{
 "cells": [
  {
   "cell_type": "code",
   "execution_count": 1,
   "id": "70655a8d-73af-4f42-8667-eef8decfff1d",
   "metadata": {
    "is_executing": true
   },
   "outputs": [
    {
     "name": "stderr",
     "output_type": "stream",
     "text": [
      "2023-06-03 14:07:02.857482: I tensorflow/core/platform/cpu_feature_guard.cc:182] This TensorFlow binary is optimized to use available CPU instructions in performance-critical operations.\n",
      "To enable the following instructions: AVX2 FMA, in other operations, rebuild TensorFlow with the appropriate compiler flags.\n"
     ]
    }
   ],
   "source": [
    "import tensorflow as tf\n",
    "import tensorflow.python.keras.callbacks\n",
    "import mnist_ex"
   ]
  },
  {
   "cell_type": "code",
   "execution_count": null,
   "id": "22bc8a89-a722-42db-ad81-596e3be7cc07",
   "metadata": {},
   "outputs": [],
   "source": []
  },
  {
   "cell_type": "code",
   "execution_count": 11,
   "id": "aa1087f0-f474-4352-ab90-4d560487de5e",
   "metadata": {},
   "outputs": [],
   "source": [
    "model_cpu = mnist_ex.init_model()\n",
    "model_gpu = mnist_ex.init_model()\n",
    "(train_data, test_data) = mnist_ex.load_mnist()\n",
    "(train_images, train_labels), (test_images, test_labels) = mnist_ex.reshape_mnist(train_data, test_data)"
   ]
  },
  {
   "cell_type": "code",
   "execution_count": null,
   "id": "cda9ed2e-9611-4118-ac71-4404d3f6d9b6",
   "metadata": {},
   "outputs": [],
   "source": []
  },
  {
   "cell_type": "code",
   "execution_count": null,
   "id": "61db4f49-d32e-4d48-8ca9-bde97757e62b",
   "metadata": {},
   "outputs": [],
   "source": []
  },
  {
   "cell_type": "code",
   "execution_count": null,
   "id": "5bf798b8-74aa-4a79-acd7-06baeefedf5f",
   "metadata": {},
   "outputs": [],
   "source": []
  },
  {
   "cell_type": "code",
   "execution_count": 14,
   "id": "ab48d585-3b70-40ff-a72d-1e712139bb33",
   "metadata": {},
   "outputs": [
    {
     "name": "stdout",
     "output_type": "stream",
     "text": [
      "Epoch 1/5\n",
      "8/8 [==============================] - 1s 42ms/step - loss: 0.3325 - accuracy: 0.9081\n",
      "Epoch 2/5\n",
      "8/8 [==============================] - 0s 42ms/step - loss: 0.3190 - accuracy: 0.9091\n",
      "Epoch 3/5\n",
      "8/8 [==============================] - 0s 45ms/step - loss: 0.2904 - accuracy: 0.9186\n",
      "Epoch 4/5\n",
      "8/8 [==============================] - 0s 43ms/step - loss: 0.2756 - accuracy: 0.9228\n",
      "Epoch 5/5\n",
      "8/8 [==============================] - 0s 37ms/step - loss: 0.2594 - accuracy: 0.9273\n"
     ]
    }
   ],
   "source": [
    "with tf.device('/GPU'):\n",
    "    model_gpu.fit(train_images, train_labels, epochs=5,batch_size=8192, callbacks=[tensorflow.keras.callbacks.TensorBoard(\"/Users/jaju/keras\")])"
   ]
  },
  {
   "cell_type": "code",
   "execution_count": null,
   "id": "83a9299d-e613-493d-a205-62586feae02a",
   "metadata": {},
   "outputs": [],
   "source": []
  },
  {
   "cell_type": "code",
   "execution_count": null,
   "id": "53771d13-21b9-4f33-bb6c-a20fee0a93ed",
   "metadata": {},
   "outputs": [],
   "source": []
  },
  {
   "cell_type": "code",
   "execution_count": null,
   "id": "8f893b24-ec0f-4054-ae95-16d185a37fd5",
   "metadata": {},
   "outputs": [],
   "source": []
  },
  {
   "cell_type": "code",
   "execution_count": null,
   "id": "1d2f6f3d-4e72-44ba-a4f7-bdca54e9d93d",
   "metadata": {},
   "outputs": [],
   "source": []
  },
  {
   "cell_type": "code",
   "execution_count": null,
   "id": "e4b59a7d-fed1-4a74-b45a-7185d37eb276",
   "metadata": {},
   "outputs": [],
   "source": []
  },
  {
   "cell_type": "code",
   "execution_count": null,
   "id": "44876e54-d78d-456f-9bd6-9d63a85c5c18",
   "metadata": {},
   "outputs": [],
   "source": []
  },
  {
   "cell_type": "code",
   "execution_count": null,
   "id": "e6a2a40d-8bf6-4024-92a3-89e956554b41",
   "metadata": {},
   "outputs": [],
   "source": []
  },
  {
   "cell_type": "code",
   "execution_count": null,
   "id": "4b132c4e-91b9-458d-b566-76ae6411a65f",
   "metadata": {},
   "outputs": [],
   "source": []
  },
  {
   "cell_type": "code",
   "execution_count": null,
   "id": "fe51fafd-3a17-4d31-82fd-9b4058ddcfe6",
   "metadata": {},
   "outputs": [],
   "source": []
  },
  {
   "cell_type": "code",
   "execution_count": 15,
   "id": "2dad9f63-7d3e-4000-906d-c2753108ec2e",
   "metadata": {},
   "outputs": [
    {
     "name": "stdout",
     "output_type": "stream",
     "text": [
      "Epoch 1/5\n",
      "8/8 [==============================] - 1s 55ms/step - loss: 0.3352 - accuracy: 0.9061\n",
      "Epoch 2/5\n",
      "8/8 [==============================] - 1s 71ms/step - loss: 0.3105 - accuracy: 0.9129\n",
      "Epoch 3/5\n",
      "8/8 [==============================] - 0s 56ms/step - loss: 0.2872 - accuracy: 0.9183\n",
      "Epoch 4/5\n",
      "8/8 [==============================] - 0s 60ms/step - loss: 0.2701 - accuracy: 0.9238\n",
      "Epoch 5/5\n",
      "8/8 [==============================] - 1s 79ms/step - loss: 0.2536 - accuracy: 0.9285\n"
     ]
    }
   ],
   "source": [
    "with tf.device('/CPU'):\n",
    "    model_cpu.fit(train_images, train_labels, epochs=5,batch_size=8192, callbacks=[tensorflow.keras.callbacks.TensorBoard(\"/Users/jaju/keras\")])"
   ]
  },
  {
   "cell_type": "code",
   "execution_count": null,
   "id": "235dfcdd-3446-456e-9c04-2cd66791fa82",
   "metadata": {},
   "outputs": [],
   "source": []
  },
  {
   "cell_type": "code",
   "execution_count": null,
   "id": "df239d9c-4693-4a18-9c30-e40758e42a6d",
   "metadata": {},
   "outputs": [],
   "source": []
  },
  {
   "cell_type": "code",
   "execution_count": null,
   "id": "31e7bc8f-14c1-4bfe-9aa9-71d39a86da62",
   "metadata": {},
   "outputs": [],
   "source": []
  },
  {
   "cell_type": "code",
   "execution_count": null,
   "id": "fb5a5328-b7d7-4625-b081-b6904023815d",
   "metadata": {},
   "outputs": [],
   "source": []
  },
  {
   "cell_type": "code",
   "execution_count": null,
   "id": "17db317b-23c1-4098-b6bd-20f32334b605",
   "metadata": {},
   "outputs": [],
   "source": []
  },
  {
   "cell_type": "code",
   "execution_count": null,
   "id": "9ffe9fe3-4d08-4118-9263-d90958adcfa0",
   "metadata": {},
   "outputs": [],
   "source": []
  },
  {
   "cell_type": "code",
   "execution_count": null,
   "id": "121eb8eb-f6c8-4ddc-9c53-0641de691cfb",
   "metadata": {},
   "outputs": [],
   "source": []
  },
  {
   "cell_type": "code",
   "execution_count": null,
   "id": "5aa6a67a-2470-4ce3-b135-65f1186fe861",
   "metadata": {},
   "outputs": [],
   "source": []
  },
  {
   "cell_type": "code",
   "execution_count": null,
   "id": "1d79faeb-199a-452b-ac0e-f2641dbacff0",
   "metadata": {},
   "outputs": [],
   "source": []
  },
  {
   "cell_type": "code",
   "execution_count": null,
   "id": "451ffad0-1c81-4489-9a0c-59a2842fc6af",
   "metadata": {},
   "outputs": [],
   "source": []
  },
  {
   "cell_type": "code",
   "execution_count": null,
   "id": "0fde81b5-5ee6-4c3a-8439-5df10cada058",
   "metadata": {},
   "outputs": [],
   "source": []
  },
  {
   "cell_type": "code",
   "execution_count": null,
   "id": "a541294e-f57e-44d8-9731-d41d0bc9f1a9",
   "metadata": {},
   "outputs": [],
   "source": []
  },
  {
   "cell_type": "code",
   "execution_count": null,
   "id": "5d97a76d-9fd8-4612-b3c9-b35869aa25e0",
   "metadata": {},
   "outputs": [],
   "source": []
  },
  {
   "cell_type": "code",
   "execution_count": null,
   "id": "8bec41d3-142a-4446-a169-2f4cd1293565",
   "metadata": {},
   "outputs": [],
   "source": []
  },
  {
   "cell_type": "code",
   "execution_count": null,
   "id": "b5108e93-d8eb-49e7-a79b-da3f306fde4d",
   "metadata": {},
   "outputs": [],
   "source": []
  },
  {
   "cell_type": "code",
   "execution_count": null,
   "id": "0556a092-0fc5-45d4-b624-5ad222815ebc",
   "metadata": {},
   "outputs": [],
   "source": []
  },
  {
   "cell_type": "markdown",
   "id": "416cf6e4-89a8-4b25-93c4-4a7782d09819",
   "metadata": {},
   "source": [
    "# Now, for testing the data"
   ]
  },
  {
   "cell_type": "code",
   "execution_count": 3,
   "id": "0efd26c9-aaff-4a0a-bd73-ce80bfbc7357",
   "metadata": {},
   "outputs": [
    {
     "name": "stdout",
     "output_type": "stream",
     "text": [
      "1/1 [==============================] - 0s 68ms/step\n",
      "[8.3956110e-08 1.1146811e-09 2.8803646e-05 5.9278973e-06 9.2710117e-13\n",
      " 2.1092880e-07 2.9042138e-12 9.9996465e-01 1.8473280e-07 2.8275112e-08]\n"
     ]
    }
   ],
   "source": [
    "test_digits = test_images[0:10]\n",
    "predictions = model.predict(test_digits)\n",
    "print(predictions[0])"
   ]
  },
  {
   "cell_type": "code",
   "execution_count": null,
   "id": "c6943b87-4936-43ab-a538-00c995e22384",
   "metadata": {},
   "outputs": [],
   "source": []
  },
  {
   "cell_type": "code",
   "execution_count": null,
   "id": "cc584d00-e626-4be7-ac55-29e09f8f68ab",
   "metadata": {},
   "outputs": [],
   "source": []
  },
  {
   "cell_type": "code",
   "execution_count": null,
   "id": "88d0afba-689c-480b-aca3-74c6bf72021f",
   "metadata": {},
   "outputs": [],
   "source": []
  },
  {
   "cell_type": "code",
   "execution_count": null,
   "id": "55afde72-7333-4596-bc33-1b93e5611067",
   "metadata": {},
   "outputs": [],
   "source": []
  },
  {
   "cell_type": "code",
   "execution_count": null,
   "id": "8d2e1b9f-ca48-46a5-9e04-dd6fb7fd9fc8",
   "metadata": {},
   "outputs": [],
   "source": []
  },
  {
   "cell_type": "markdown",
   "id": "ce6c7fb1-f0c9-4ffe-bc14-e77bc4bde93d",
   "metadata": {},
   "source": [
    "# That gives all probabilities. Let us pick the winner"
   ]
  },
  {
   "cell_type": "code",
   "execution_count": 4,
   "id": "faa66f43-73ff-45e0-addb-80d3adda2b55",
   "metadata": {},
   "outputs": [
    {
     "name": "stdout",
     "output_type": "stream",
     "text": [
      "7\n"
     ]
    }
   ],
   "source": [
    "print(predictions[0].argmax())"
   ]
  },
  {
   "cell_type": "code",
   "execution_count": null,
   "id": "327a9679-93d6-4e74-90bb-1ce181824be0",
   "metadata": {},
   "outputs": [],
   "source": []
  },
  {
   "cell_type": "code",
   "execution_count": null,
   "id": "550bc844-f9f2-40c6-a671-4f25160206d3",
   "metadata": {},
   "outputs": [],
   "source": []
  },
  {
   "cell_type": "code",
   "execution_count": null,
   "id": "464fdfaf-ea81-44b7-a452-a6537daeeffe",
   "metadata": {},
   "outputs": [],
   "source": []
  },
  {
   "cell_type": "code",
   "execution_count": null,
   "id": "217c4729-0ca4-4738-ab87-60e15300f5ef",
   "metadata": {},
   "outputs": [],
   "source": []
  },
  {
   "cell_type": "markdown",
   "id": "96edd9a9-2fba-4514-8b34-dd2f29e09874",
   "metadata": {},
   "source": [
    "# What was it again?"
   ]
  },
  {
   "cell_type": "code",
   "execution_count": null,
   "id": "12b36e87-eaaa-47b9-a68a-9cd53d1eb576",
   "metadata": {},
   "outputs": [],
   "source": []
  },
  {
   "cell_type": "code",
   "execution_count": 5,
   "id": "9330372f-9147-42d8-831b-0640c7cf535c",
   "metadata": {},
   "outputs": [
    {
     "data": {
      "text/plain": [
       "7"
      ]
     },
     "execution_count": 5,
     "metadata": {},
     "output_type": "execute_result"
    }
   ],
   "source": [
    "test_labels[0]"
   ]
  },
  {
   "cell_type": "markdown",
   "id": "61c72a3c-91bb-4868-acb6-0f0d19f44ac8",
   "metadata": {},
   "source": [
    "# What is the overall accuracies?"
   ]
  },
  {
   "cell_type": "code",
   "execution_count": 8,
   "id": "915786b5-44e7-438f-a456-694aac6004c7",
   "metadata": {},
   "outputs": [
    {
     "name": "stdout",
     "output_type": "stream",
     "text": [
      "  1/313 [..............................] - ETA: 1:15 - loss: 0.0031 - accuracy: 1.0000"
     ]
    },
    {
     "name": "stderr",
     "output_type": "stream",
     "text": [
      "2023-06-03 13:57:15.701421: I tensorflow/core/grappler/optimizers/custom_graph_optimizer_registry.cc:114] Plugin optimizer for device_type GPU is enabled.\n"
     ]
    },
    {
     "name": "stdout",
     "output_type": "stream",
     "text": [
      "313/313 [==============================] - 3s 9ms/step - loss: 0.0577 - accuracy: 0.9823\n",
      "test accuracy: 0.9822999835014343\n"
     ]
    }
   ],
   "source": [
    "test_loss, test_acc = model.evaluate(test_images, test_labels)\n",
    "print(f\"test accuracy: {test_acc}\")"
   ]
  },
  {
   "cell_type": "code",
   "execution_count": 11,
   "id": "4e118a35-05b1-4441-97ed-19d7ae8bfae0",
   "metadata": {},
   "outputs": [],
   "source": [
    "%load_ext tensorboard"
   ]
  },
  {
   "cell_type": "code",
   "execution_count": null,
   "id": "6494cc14-2592-4997-97ac-ee0f2f19dbd7",
   "metadata": {},
   "outputs": [],
   "source": []
  },
  {
   "cell_type": "code",
   "execution_count": null,
   "id": "53d8f84c-8586-41d1-9b00-a994809b1485",
   "metadata": {},
   "outputs": [],
   "source": []
  },
  {
   "cell_type": "code",
   "execution_count": 12,
   "id": "4bf323b3-521b-4328-94a0-96335f69c6b2",
   "metadata": {},
   "outputs": [
    {
     "data": {
      "text/html": [
       "\n",
       "      <iframe id=\"tensorboard-frame-efe7a54f99e957cf\" width=\"100%\" height=\"800\" frameborder=\"0\">\n",
       "      </iframe>\n",
       "      <script>\n",
       "        (function() {\n",
       "          const frame = document.getElementById(\"tensorboard-frame-efe7a54f99e957cf\");\n",
       "          const url = new URL(\"/\", window.location);\n",
       "          const port = 6006;\n",
       "          if (port) {\n",
       "            url.port = port;\n",
       "          }\n",
       "          frame.src = url;\n",
       "        })();\n",
       "      </script>\n",
       "    "
      ],
      "text/plain": [
       "<IPython.core.display.HTML object>"
      ]
     },
     "metadata": {},
     "output_type": "display_data"
    }
   ],
   "source": [
    "%tensorboard --logdir \"/Users/jaju/keras\""
   ]
  },
  {
   "cell_type": "code",
   "execution_count": null,
   "id": "ee397488-b3bc-4ba0-bb69-e6cf6c3a3edb",
   "metadata": {},
   "outputs": [],
   "source": []
  },
  {
   "cell_type": "code",
   "execution_count": null,
   "id": "1511f0b8-e50f-41b0-999e-9b637e6dc465",
   "metadata": {},
   "outputs": [],
   "source": []
  },
  {
   "cell_type": "code",
   "execution_count": null,
   "id": "76e67339-944f-4900-b4bd-9257b7077f6f",
   "metadata": {
    "editable": true,
    "slideshow": {
     "slide_type": ""
    },
    "tags": []
   },
   "outputs": [],
   "source": []
  },
  {
   "cell_type": "code",
   "execution_count": null,
   "id": "83f34c34-7e8f-4403-b226-323635edde89",
   "metadata": {},
   "outputs": [],
   "source": []
  },
  {
   "cell_type": "code",
   "execution_count": null,
   "id": "709d5b23-bbe0-4313-9262-9c36789b5a66",
   "metadata": {},
   "outputs": [],
   "source": []
  },
  {
   "cell_type": "code",
   "execution_count": null,
   "id": "ecd9d5c4-7228-4a49-a8fc-93fd9d2e58dd",
   "metadata": {},
   "outputs": [],
   "source": []
  },
  {
   "cell_type": "code",
   "execution_count": null,
   "id": "26723431-db9a-4c92-935c-4c622f6a059c",
   "metadata": {},
   "outputs": [],
   "source": []
  }
 ],
 "metadata": {
  "kernelspec": {
   "display_name": "Python 3 (ipykernel)",
   "language": "python",
   "name": "python3"
  },
  "language_info": {
   "codemirror_mode": {
    "name": "ipython",
    "version": 3
   },
   "file_extension": ".py",
   "mimetype": "text/x-python",
   "name": "python",
   "nbconvert_exporter": "python",
   "pygments_lexer": "ipython3",
   "version": "3.10.11"
  }
 },
 "nbformat": 4,
 "nbformat_minor": 5
}
